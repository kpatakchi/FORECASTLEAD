{
 "cells": [
  {
   "cell_type": "markdown",
   "id": "d20516f9-0fe1-44fb-a7ae-192443548980",
   "metadata": {},
   "source": [
    "### 1. Calculate precipitation stats:"
   ]
  },
  {
   "cell_type": "code",
   "execution_count": 5,
   "id": "b40a32d2-368e-4c8e-b73f-e5a8c3b82e1b",
   "metadata": {
    "tags": []
   },
   "outputs": [
    {
     "name": "stdout",
     "output_type": "stream",
     "text": [
      "Processing day 02...\n"
     ]
    },
    {
     "name": "stderr",
     "output_type": "stream",
     "text": [
      "\n",
      "KeyboardInterrupt\n",
      "\n"
     ]
    }
   ],
   "source": [
    "from py_env_hpc import *\n",
    "\n",
    "# Load the reference dataset\n",
    "REF = xr.open_dataset(HRES_PREP+\"/ADAPTER_DE05.day01.merged.nc\")\n",
    "\n",
    "# Loop through the model data files from day02 to day10\n",
    "for day in range(2, 11):\n",
    "    \n",
    "    print(f\"Processing day {day:02d}...\")\n",
    "    \n",
    "    MOD = os.path.join(HRES_PREP, f\"ADAPTER_DE05.day{day:02d}.merged.nc\")\n",
    "    CMOD = os.path.join(PREDICT_FILES, f\"ADAPTER_DE05.day{day:02d}.merged.nc.corrected.nc\")\n",
    "\n",
    "    # Load the model dataset\n",
    "    MOD = xr.open_dataset(MOD)\n",
    "    CMOD = xr.open_dataset(CMOD)\n",
    "\n",
    "    # Resample both datasets to daily frequency\n",
    "    REF_D = func_stats.resample_dataset(REF, \"daily\")\n",
    "    MOD_D = func_stats.resample_dataset(MOD, \"daily\")\n",
    "    CMOD_D = func_stats.resample_dataset(CMOD, \"daily\")\n",
    "    print(\"Datasets resampled.\")\n",
    "\n",
    "    # Calculate metrics\n",
    "    MOD_METRICS = func_stats.calculate_metrics(REF_D, MOD_D)\n",
    "    CMOD_METRICS = func_stats.calculate_metrics(REF_D, CMOD_D)\n",
    "\n",
    "    # Save the metrics to the STATS folder\n",
    "    MOD_OUT = os.path.join(STATS, f\"ADAPTER_DE05.day{day:02d}_HRES_stats.nc\")\n",
    "    CMOD_OUT = os.path.join(STATS, f\"ADAPTER_DE05.day{day:02d}_HRES_C_stats.nc\")\n",
    "\n",
    "    xr.Dataset(MOD_METRICS).to_netcdf(MOD_OUT)\n",
    "    xr.Dataset(CMOD_METRICS).to_netcdf(CMOD_OUT)\n",
    "\n",
    "    # Close the datasets\n",
    "    MOD.close()\n",
    "    CMOD.close()\n"
   ]
  }
 ],
 "metadata": {
  "kernelspec": {
   "display_name": "prc_env",
   "language": "python",
   "name": "conda_prc_env"
  },
  "language_info": {
   "codemirror_mode": {
    "name": "ipython",
    "version": 3
   },
   "file_extension": ".py",
   "mimetype": "text/x-python",
   "name": "python",
   "nbconvert_exporter": "python",
   "pygments_lexer": "ipython3",
   "version": "3.8.15"
  }
 },
 "nbformat": 4,
 "nbformat_minor": 5
}
