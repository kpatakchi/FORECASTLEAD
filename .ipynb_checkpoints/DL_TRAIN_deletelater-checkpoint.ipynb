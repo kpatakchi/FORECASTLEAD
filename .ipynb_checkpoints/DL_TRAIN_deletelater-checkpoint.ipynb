{
 "cells": [
  {
   "cell_type": "code",
   "execution_count": 1,
   "id": "39f58197-9576-4b74-bce8-a5fd2efd97e7",
   "metadata": {
    "tags": []
   },
   "outputs": [
    {
     "name": "stdout",
     "output_type": "stream",
     "text": [
      "train_data_hourly_pr_['ADAPTER_DE05.day02.merged.nc']_['ADAPTER_DE05.day01.merged.nc']_MM_6__spatiotemporal_128.256_2018-01-01T13_2023-12-31T23_no_na_land\n",
      "Loading training data...\n",
      "Data loaded!\n"
     ]
    },
    {
     "name": "stderr",
     "output_type": "stream",
     "text": [
      "2024-02-29 12:51:58.926465: I tensorflow/core/common_runtime/gpu/gpu_device.cc:1510] Created device /job:localhost/replica:0/task:0/device:GPU:0 with 38252 MB memory:  -> device: 0, name: NVIDIA A100-SXM4-40GB, pci bus id: 0000:03:00.0, compute capability: 8.0\n",
      "2024-02-29 12:51:58.928470: I tensorflow/core/common_runtime/gpu/gpu_device.cc:1510] Created device /job:localhost/replica:0/task:0/device:GPU:1 with 38252 MB memory:  -> device: 1, name: NVIDIA A100-SXM4-40GB, pci bus id: 0000:44:00.0, compute capability: 8.0\n",
      "2024-02-29 12:51:58.930280: I tensorflow/core/common_runtime/gpu/gpu_device.cc:1510] Created device /job:localhost/replica:0/task:0/device:GPU:2 with 38252 MB memory:  -> device: 2, name: NVIDIA A100-SXM4-40GB, pci bus id: 0000:84:00.0, compute capability: 8.0\n",
      "2024-02-29 12:51:58.932074: I tensorflow/core/common_runtime/gpu/gpu_device.cc:1510] Created device /job:localhost/replica:0/task:0/device:GPU:3 with 38252 MB memory:  -> device: 3, name: NVIDIA A100-SXM4-40GB, pci bus id: 0000:c4:00.0, compute capability: 8.0\n"
     ]
    }
   ],
   "source": [
    "from py_env_train import *\n",
    "import argparse\n",
    "\n",
    "leadtime=\"day02\"\n",
    "HPT_path=\"HPT/\"\n",
    "mask_type = \"no_na\"\n",
    "LR=0.001\n",
    "BS=16\n",
    "lr_factor=0.5\n",
    "Filters=64\n",
    "\n",
    "# Define the data specifications:\n",
    "model_data = [\"ADAPTER_DE05.\"+ leadtime + \".merged.nc\"]\n",
    "reference_data = [\"ADAPTER_DE05.day01.merged.nc\"]\n",
    "task_name = \"spatiotemporal\"\n",
    "mm = \"MM\"  # or DM\n",
    "date_start = \"2018-01-01T13\"\n",
    "date_end = \"2023-12-31T23\"\n",
    "variable = \"pr\"\n",
    "laginensemble = False\n",
    "min_delta_or_lr=0.00000000000001 #just to avoid any limitations\n",
    "\n",
    "# Define the following for network configs:\n",
    "loss = \"mse\"\n",
    "min_LR = min_delta_or_lr\n",
    "lr_patience = 2\n",
    "patience = 8\n",
    "epochs = 64\n",
    "val_split = 0.25\n",
    "n_channels = 7\n",
    "xpixels = 128\n",
    "ypixels = 256\n",
    "\n",
    "filename = func_train.data_unique_name_generator(model_data, reference_data, task_name, mm, date_start, date_end, variable, mask_type, laginensemble)\n",
    "data_unique_name = filename[:-4]\n",
    "print(data_unique_name)\n",
    "\n",
    "# load the training data\n",
    "print(\"Loading training data...\")\n",
    "train_files = np.load(TRAIN_FILES + \"/\" + filename)\n",
    "\n",
    "train_x = train_files[\"train_x\"]\n",
    "train_y = train_files[\"train_y\"]\n",
    "#train_m = train_files[\"train_m\"]\n",
    "val_x = train_files[\"val_x\"]\n",
    "val_y = train_files[\"val_y\"]\n",
    "#val_m = train_files[\"val_m\"]\n",
    "print(\"Data loaded!\")\n",
    "\n",
    "train_dataset = tf.data.Dataset.from_tensor_slices((train_x, train_y)).batch(BS)\n",
    "val_dataset = tf.data.Dataset.from_tensor_slices((val_x, val_y)).batch(BS)\n",
    "\n",
    "train_x, train_y, val_x, val_y = None, None, None, None"
   ]
  },
  {
   "cell_type": "code",
   "execution_count": null,
   "id": "00b82ad0-2188-41c7-b29f-39bba9a4d898",
   "metadata": {
    "tags": []
   },
   "outputs": [
    {
     "name": "stdout",
     "output_type": "stream",
     "text": [
      "mse_64_0.001_1e-14_0.5_2_16_8_0.25_64\n",
      "Training the model...\n",
      "Epoch 1/64\n"
     ]
    },
    {
     "name": "stderr",
     "output_type": "stream",
     "text": [
      "2024-02-29 12:52:18.464374: I tensorflow/compiler/mlir/mlir_graph_optimization_pass.cc:185] None of the MLIR Optimization Passes are enabled (registered 2)\n",
      "2024-02-29 12:52:19.992000: I tensorflow/stream_executor/cuda/cuda_dnn.cc:369] Loaded cuDNN version 8301\n"
     ]
    }
   ],
   "source": [
    "training_unique_name = func_train.generate_training_unique_name(loss, Filters, LR, min_LR, lr_factor, lr_patience, BS, patience, val_split, epochs)\n",
    "print(training_unique_name)\n",
    "\n",
    "model = func_train.UNET_ATT(xpixels, ypixels, n_channels, Filters)\n",
    "optimizer = tf.keras.optimizers.Adam(learning_rate=LR, name='Adam')\n",
    "model.compile(optimizer=optimizer, loss=loss)\n",
    "\n",
    "# Define the model checkpoint and early stopping callbacks\n",
    "model_path = PPROJECT_DIR2 + HPT_path + training_unique_name + '_' + leadtime + '.h5'\n",
    "checkpointer = tf.keras.callbacks.ModelCheckpoint(model_path, verbose=1, save_best_only=True, monitor='val_loss')\n",
    "callbacks = [tf.keras.callbacks.EarlyStopping(patience=patience, monitor='val_loss')]\n",
    "\n",
    "# Define the ReduceLROnPlateau callback\n",
    "reduce_lr = tf.keras.callbacks.ReduceLROnPlateau(monitor='val_loss', factor=lr_factor, patience=lr_patience, min_lr=min_LR, min_delta=min_delta_or_lr)\n",
    "\n",
    "print(\"Training the model...\")\n",
    "\n",
    "# Train the model using train_dataset and val_dataset\n",
    "results = model.fit(train_dataset, validation_data=val_dataset, epochs=epochs, verbose=2, callbacks=[callbacks, checkpointer, reduce_lr])\n",
    "\n",
    "# Save and plot the results\n",
    "print(\"Saving and plotting the results...\")\n",
    "RESULTS_DF = pd.DataFrame(results.history)\n",
    "RESULTS_DF.to_csv(PPROJECT_DIR2 + HPT_path + training_unique_name + \"_\" + leadtime + \".csv\")"
   ]
  }
 ],
 "metadata": {
  "kernelspec": {
   "display_name": "TF_ENV",
   "language": "python",
   "name": "tf_env"
  },
  "language_info": {
   "codemirror_mode": {
    "name": "ipython",
    "version": 3
   },
   "file_extension": ".py",
   "mimetype": "text/x-python",
   "name": "python",
   "nbconvert_exporter": "python",
   "pygments_lexer": "ipython3",
   "version": "3.9.6"
  }
 },
 "nbformat": 4,
 "nbformat_minor": 5
}
